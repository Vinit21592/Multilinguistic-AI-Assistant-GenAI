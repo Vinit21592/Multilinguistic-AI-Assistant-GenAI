{
 "cells": [
  {
   "cell_type": "code",
   "execution_count": 1,
   "metadata": {},
   "outputs": [],
   "source": [
    "import os"
   ]
  },
  {
   "cell_type": "code",
   "execution_count": 3,
   "metadata": {},
   "outputs": [
    {
     "name": "stdout",
     "output_type": "stream",
     "text": [
      "perfect!!\n"
     ]
    }
   ],
   "source": [
    "from dotenv import load_dotenv\n",
    "import os\n",
    "\n",
    "print(\"perfect!!\")\n",
    "load_dotenv()\n",
    "\n",
    "GOOGLE_API_KEY=os.getenv(\"GOOGLE_API_KEY\")\n",
    "#print(GOOGLE_API_KEY)\n",
    "os.environ[\"GOOGLE_API_KEY\"]=GOOGLE_API_KEY"
   ]
  },
  {
   "cell_type": "code",
   "execution_count": 4,
   "metadata": {},
   "outputs": [
    {
     "name": "stderr",
     "output_type": "stream",
     "text": [
      "d:\\DATA SCIENCE\\MLOPS_Projects\\Multilinguistic-AI-Assistant-GenAI\\venv\\lib\\site-packages\\tqdm\\auto.py:21: TqdmWarning: IProgress not found. Please update jupyter and ipywidgets. See https://ipywidgets.readthedocs.io/en/stable/user_install.html\n",
      "  from .autonotebook import tqdm as notebook_tqdm\n"
     ]
    }
   ],
   "source": [
    "# Import the Python SDK\n",
    "import google.generativeai as genai"
   ]
  },
  {
   "cell_type": "code",
   "execution_count": 5,
   "metadata": {},
   "outputs": [],
   "source": [
    "genai.configure(api_key=GOOGLE_API_KEY)"
   ]
  },
  {
   "cell_type": "code",
   "execution_count": 6,
   "metadata": {},
   "outputs": [],
   "source": [
    "model = genai.GenerativeModel('gemini-pro')"
   ]
  },
  {
   "cell_type": "code",
   "execution_count": 7,
   "metadata": {},
   "outputs": [
    {
     "name": "stdout",
     "output_type": "stream",
     "text": [
      "In the bustling town of Willow Creek, amidst the quaint streets and lively markets, there lived a young boy named Ethan. Ethan was an inquisitive child with a wild imagination and a thirst for adventure. One fateful day, as he rummaged through his attic, he stumbled upon a hidden treasure – a dusty old backpack.\n",
      "\n",
      "Curiosity piqued, Ethan unzipped the backpack and peered inside. To his astonishment, it was not empty as he had expected. Instead, it contained an assortment of peculiar objects that seemed to shimmer with an otherworldly glow. There was a compass that always pointed north, a magnifying glass that could zoom into the tiniest details, and a flashlight that emitted beams of rainbow-colored light.\n",
      "\n",
      "As Ethan marveled at the contents, he noticed a small, golden key attached to the handle of the backpack. With trembling hands, he pulled it out and turned it in the lock. With a soft click, the backpack opened wider, revealing a secret compartment hidden behind the lining.\n",
      "\n",
      "In the compartment, lay a worn-out parchment scroll. Ethan carefully unfurled it and began to read. The script on the scroll was faded and difficult to decipher, but as Ethan continued, he gasped in wonder. It was a spellbook, containing ancient incantations that could manipulate the very fabric of reality.\n",
      "\n",
      "Overjoyed, Ethan eagerly tested the spells. With a flick of the wrist and a muttered incantation, he summoned a swarm of butterflies that danced playfully around his head. He then levitated a book off his cluttered desk, flipping through its pages with the wave of his hand.\n",
      "\n",
      "As the sun began to set, casting long shadows across the attic, Ethan's excitement grew with each spell he mastered. He realized that the magic backpack was not just a toy, but a gateway to a world of boundless possibilities.\n",
      "\n",
      "With a mischievous grin, Ethan zipped up the backpack and set off into the town. Using his newfound magical abilities, he transformed traffic lights into vibrant kaleidoscopes, made soda cans float effortlessly in the air, and created magnificent illusions that left passersby both bewildered and amazed.\n",
      "\n",
      "As the stars twinkled overhead, Ethan returned home, his heart filled with a sense of wonder and fulfillment. The magic backpack had not only brought him joy and adventure but had also ignited a spark of creativity and imagination that would forever shape his life.\n",
      "\n",
      "And so, the legend of Ethan, the Boy with the Magic Backpack, was passed down through generations. It became a tale of a time when ordinary objects could be imbued with extraordinary power, and the dreams of a young boy became a reality that surpassed even the wildest of imaginations.\n"
     ]
    }
   ],
   "source": [
    "response = model.generate_content(\"Write a story about a magic backpack.\")\n",
    "print(response.text)"
   ]
  },
  {
   "cell_type": "code",
   "execution_count": null,
   "metadata": {},
   "outputs": [],
   "source": []
  }
 ],
 "metadata": {
  "kernelspec": {
   "display_name": "Python 3",
   "language": "python",
   "name": "python3"
  },
  "language_info": {
   "codemirror_mode": {
    "name": "ipython",
    "version": 3
   },
   "file_extension": ".py",
   "mimetype": "text/x-python",
   "name": "python",
   "nbconvert_exporter": "python",
   "pygments_lexer": "ipython3",
   "version": "3.9.19"
  }
 },
 "nbformat": 4,
 "nbformat_minor": 2
}
